{
 "cells": [
  {
   "attachments": {},
   "cell_type": "markdown",
   "metadata": {},
   "source": [
    "<h2>Aggregate measures</h2>"
   ]
  },
  {
   "attachments": {},
   "cell_type": "markdown",
   "metadata": {},
   "source": [
    "Across different datasets"
   ]
  },
  {
   "cell_type": "code",
   "execution_count": 1,
   "metadata": {},
   "outputs": [],
   "source": [
    "# SEC (MCS and ONS) - National\n",
    "sec_mcs_ons_low_proportion_100, sec_mcs_ons_mid_proportion_100, sec_mcs_ons_high_proportion_100 = 0, 0, 0;\n",
    "# SEC (LDN, REACH and eLIXIR) - London\n",
    "sec_ldn_reach_low_proportion_100, sec_ldn_reach_mid_proportion_100, sec_ldn_reach_high_proportion_100 = 0, 0, 0;\n",
    "# Ethnicity (LDN, REACH and eLIXIR) - London\n",
    "sec_ldn_reach_white_british_proportion_100, sec_ldn_reach_minority_proportion_100 = 0, 0;"
   ]
  },
  {
   "cell_type": "markdown",
   "metadata": {},
   "source": [
    "<h3>SEC</h3>"
   ]
  },
  {
   "attachments": {},
   "cell_type": "markdown",
   "metadata": {},
   "source": [
    "National perspective"
   ]
  },
  {
   "cell_type": "code",
   "execution_count": 2,
   "metadata": {},
   "outputs": [
    {
     "name": "stdout",
     "output_type": "stream",
     "text": [
      "1224 1463 796\n",
      "MCS low %: 0.35142118863049093\n",
      "MCS mid %: 0.42004019523399366\n",
      "MCS high %: 0.22853861613551535\n"
     ]
    }
   ],
   "source": [
    "# import mcs proportions\n",
    "%run ./mcs.ipynb"
   ]
  },
  {
   "cell_type": "code",
   "execution_count": 3,
   "metadata": {},
   "outputs": [
    {
     "name": "stdout",
     "output_type": "stream",
     "text": [
      "915 4446 3228\n",
      "ONS low %: 0.10653161019909187\n",
      "ONS mid %: 0.5176388403772267\n",
      "ONS high %: 0.37582954942368146\n",
      "1.0\n"
     ]
    }
   ],
   "source": [
    "# import ons proportions\n",
    "%run ./ons.ipynb"
   ]
  },
  {
   "attachments": {},
   "cell_type": "markdown",
   "metadata": {},
   "source": [
    "Aggregate MCS and ONS"
   ]
  },
  {
   "cell_type": "code",
   "execution_count": 4,
   "metadata": {},
   "outputs": [
    {
     "name": "stdout",
     "output_type": "stream",
     "text": [
      "0.2289763994147914\n"
     ]
    }
   ],
   "source": [
    "# take average of two SEC measures from MCS and ONS\n",
    "sec_mcs_ons_low_proportion = (sec_mcs_low_proportion + sec_ons_low_proportion) / 2;\n",
    "print(sec_mcs_ons_low_proportion);"
   ]
  },
  {
   "cell_type": "code",
   "execution_count": 5,
   "metadata": {},
   "outputs": [
    {
     "name": "stdout",
     "output_type": "stream",
     "text": [
      "0.4688395178056102\n"
     ]
    }
   ],
   "source": [
    "sec_mcs_ons_mid_proportion = (sec_mcs_mid_proportion + sec_ons_mid_proportion) / 2;\n",
    "print(sec_mcs_ons_mid_proportion);"
   ]
  },
  {
   "cell_type": "code",
   "execution_count": 6,
   "metadata": {},
   "outputs": [
    {
     "name": "stdout",
     "output_type": "stream",
     "text": [
      "0.3021840827795984\n"
     ]
    }
   ],
   "source": [
    "sec_mcs_ons_high_proportion = (sec_mcs_high_proportion + sec_ons_high_proportion) / 2;\n",
    "print(sec_mcs_ons_high_proportion);"
   ]
  },
  {
   "cell_type": "code",
   "execution_count": 7,
   "metadata": {},
   "outputs": [
    {
     "name": "stdout",
     "output_type": "stream",
     "text": [
      "1.0\n"
     ]
    }
   ],
   "source": [
    "# double check == 1\n",
    "print(sec_mcs_ons_low_proportion + sec_mcs_ons_mid_proportion + sec_mcs_ons_high_proportion);"
   ]
  },
  {
   "attachments": {},
   "cell_type": "markdown",
   "metadata": {},
   "source": [
    "Distributions"
   ]
  },
  {
   "cell_type": "code",
   "execution_count": 8,
   "metadata": {},
   "outputs": [
    {
     "name": "stdout",
     "output_type": "stream",
     "text": [
      "23\n"
     ]
    }
   ],
   "source": [
    "# aggregate for /100\n",
    "sec_mcs_ons_low_proportion_100 = max(1, int(round(sec_mcs_ons_low_proportion, 2) * 100));\n",
    "print(sec_mcs_ons_low_proportion_100);"
   ]
  },
  {
   "cell_type": "code",
   "execution_count": 9,
   "metadata": {},
   "outputs": [
    {
     "name": "stdout",
     "output_type": "stream",
     "text": [
      "47\n"
     ]
    }
   ],
   "source": [
    "sec_mcs_ons_mid_proportion_100 = max(1, int(round(sec_mcs_ons_mid_proportion, 2) * 100));\n",
    "print(sec_mcs_ons_mid_proportion_100);"
   ]
  },
  {
   "cell_type": "code",
   "execution_count": 10,
   "metadata": {},
   "outputs": [
    {
     "name": "stdout",
     "output_type": "stream",
     "text": [
      "30\n"
     ]
    }
   ],
   "source": [
    "sec_mcs_ons_high_proportion_100 = max(1, int(round(sec_mcs_ons_high_proportion, 2) * 100));\n",
    "print(sec_mcs_ons_high_proportion_100);"
   ]
  },
  {
   "cell_type": "code",
   "execution_count": 11,
   "metadata": {},
   "outputs": [
    {
     "name": "stdout",
     "output_type": "stream",
     "text": [
      "100\n"
     ]
    }
   ],
   "source": [
    "print(sec_mcs_ons_low_proportion_100 + sec_mcs_ons_mid_proportion_100 + sec_mcs_ons_high_proportion_100)"
   ]
  },
  {
   "attachments": {},
   "cell_type": "markdown",
   "metadata": {},
   "source": [
    "London perspective"
   ]
  },
  {
   "cell_type": "code",
   "execution_count": 12,
   "metadata": {},
   "outputs": [
    {
     "name": "stdout",
     "output_type": "stream",
     "text": [
      "66557\n",
      "1026\n",
      "{'mid': 508, 'low': 288, 'high': 198}\n",
      "21917 35114 9068\n",
      "LDN LSOA low %: 0.33157838999077144\n",
      "LDN LSOA mid %: 0.5312334528510265\n",
      "LDN LSOA high %: 0.1371881571582021\n",
      "1.0\n",
      "15160\n",
      "{2: 18.0, 3: 17.0, 4: 17.0, 5: 17.0, 6: 17.0, 7: 18.0, 8: 18.0, 9: 19.0, 10: 19.0, 11: 20.0, 12: 21.0, 13: 21.0, 14: 22.0, 15: 23.0, 16: 24.0, 17: 24.0, 18: 25.0}\n",
      "{2: 18.0, 3: 17.0, 4: 17.0, 5: 18.0, 6: 18.0, 7: 18.0, 8: 19.0, 9: 20.0, 10: 20.0, 11: 21.0, 12: 22.0, 13: 23.0, 14: 24.0, 15: 24.0, 16: 25.0, 17: 25.0, 18: 26.0}\n",
      "{2: 13.0, 3: 13.0, 4: 13.0, 5: 13.0, 6: 13.0, 7: 13.0, 8: 13.0, 9: 13.0, 10: 13.0, 11: 14.0, 12: 14.0, 13: 15.0, 14: 15.0, 15: 16.0, 16: 16.0, 17: 17.0, 18: 17.0}\n",
      "{2: 13.0, 3: 13.0, 4: 13.0, 5: 13.0, 6: 13.0, 7: 13.0, 8: 13.0, 9: 13.0, 10: 13.0, 11: 14.0, 12: 14.0, 13: 15.0, 14: 15.0, 15: 16.0, 16: 16.0, 17: 16.0, 18: 17.0}\n",
      "{2: 38, 3: 98, 4: 108, 5: 145, 6: 153, 7: 166, 8: 157, 9: 136, 10: 170, 11: 177, 12: 198, 13: 228, 14: 248, 15: 267, 16: 276, 17: 345, 18: 317}\n",
      "{2: 154, 3: 160, 4: 224, 5: 324, 6: 404, 7: 463, 8: 584, 9: 649, 10: 723, 11: 650, 12: 750, 13: 666, 14: 807, 15: 704, 16: 847, 17: 783, 18: 858}\n",
      "3227\n",
      "9750\n",
      "211\n",
      "3438\n",
      "4875.0\n",
      "4875.0\n",
      "LDN BMI low %: 0.2606915377616015\n",
      "LDN BMI mid %: 0.36965423111919926\n",
      "LDN BMI high %: 0.36965423111919926\n",
      "1.0\n",
      "8972\n",
      "9192\n",
      "4596.0\n",
      "LDN COVID low %: 0.4939440651838802\n",
      "LDN COVID mid %: 0.2530279674080599\n",
      "LDN COVID high %: 0.2530279674080599\n",
      "0.9999999999999999\n",
      "0.36207133097875105\n",
      "0.3846385504594285\n",
      "0.25329011856182043\n",
      "1.0\n",
      "LDN low SEC: 36\n",
      "LDN mid SEC: 38\n",
      "LDN high SEC: 25\n",
      "99\n",
      "13962 29336\n",
      "43298\n",
      "0.3224629313132246 0.6775370686867753\n",
      "LDN white british: 32\n",
      "LDN minority ethnic: 68\n",
      "100\n",
      "4342\n",
      "22394\n",
      "1031\n",
      "1871\n",
      "371\n",
      "6175\n",
      "9453\n",
      "2011\n",
      "LDN low SEC + asthma: 5\n",
      "LDN mid SEC + asthma: 9\n",
      "LDN high SEC + asthma: 2\n",
      "LDN low SEC: 30\n",
      "LDN mid SEC: 45\n",
      "LDN high SEC: 10\n",
      "101\n",
      "824\n",
      "2390\n",
      "4163\n",
      "10882\n",
      "LDN minority ethnic + asthma: 9\n",
      "LDN white british + asthma: 5\n",
      "LDN minority ethnic: 60\n",
      "LDN white british: 30\n",
      "101\n",
      "{'2018': 41612, '2017': 12426, '2019': 47488, '2020': 49244, '2021': 57936, '2022': 29718} {'2017': 99066, '2018': 118186, '2019': 131553, '2020': 140171, '2021': 205833}\n",
      "39737.333333333336\n",
      "138961.8\n",
      "{'2018': {'ethnicity_white_non_asthma': 1.55718879191548, 'sec_mid_non_asthma': 1.5250719276613234, 'ethnicity_minority_non_asthma': 1.489612676056338, 'sec_high_asthma': 1.5304347826086957, 'ethnicity_minority_asthma': 1.5448504983388704, 'sec_low_non_asthma': 1.4891304347826086, 'sec_mid_asthma': 1.5613040396881643, 'sec_low_asthma': 1.6243654822335025, 'ethnicity_white_asthma': 1.5884244372990353, 'sec_high_non_asthma': 1.5828402366863905}, '2017': {'sec_mid_non_asthma': 1.5130434782608695, 'ethnicity_minority_non_asthma': 1.490096208262592, 'sec_high_asthma': 1.295774647887324, 'ethnicity_minority_asthma': 1.5156794425087108, 'sec_mid_asthma': 1.5601750547045952, 'sec_low_non_asthma': 1.4771739130434782, 'sec_low_asthma': 1.4067796610169492, 'sec_high_non_asthma': 1.5521472392638036, 'ethnicity_white_non_asthma': 1.5093795093795095, 'ethnicity_white_asthma': 1.4564102564102563}, '2019': {'sec_mid_non_asthma': 1.561774616248596, 'ethnicity_minority_non_asthma': 1.5178600554558799, 'ethnicity_white_non_asthma': 1.6147433084686267, 'sec_high_asthma': 1.6285714285714286, 'ethnicity_minority_asthma': 1.539210661199385, 'sec_low_non_asthma': 1.5245098039215685, 'sec_high_non_asthma': 1.6009615384615385, 'sec_mid_asthma': 1.5363391655450875, 'sec_low_asthma': 1.6025, 'ethnicity_white_asthma': 1.6419213973799127}, '2020': {'sec_mid_non_asthma': 1.6778391167192428, 'ethnicity_minority_non_asthma': 1.633356790992259, 'sec_high_asthma': 1.5797665369649805, 'ethnicity_minority_asthma': 1.5958795562599049, 'sec_high_non_asthma': 1.596646942800789, 'sec_mid_asthma': 1.5526866713189114, 'ethnicity_white_non_asthma': 1.675793133420252, 'sec_low_asthma': 1.7157622739018088, 'ethnicity_white_asthma': 1.6345840130505709, 'sec_low_non_asthma': 1.6601848900223144}, '2021': {'sec_mid_non_asthma': 1.826830249396621, 'ethnicity_minority_non_asthma': 1.7604203152364273, 'sec_high_non_asthma': 1.808349146110057, 'sec_high_asthma': 1.7672413793103448, 'ethnicity_minority_asthma': 1.7687315634218288, 'sec_low_non_asthma': 1.7840046701692935, 'sec_mid_asthma': 1.7698229407236337, 'sec_low_asthma': 1.756720430107527, 'ethnicity_white_asthma': 1.9172297297297298, 'ethnicity_white_non_asthma': 1.886031042128603}, '2022': {'sec_high_asthma': 2.1875, 'ethnicity_minority_asthma': 1.9733333333333334, 'sec_high_non_asthma': 1.9645390070921986, 'ethnicity_minority_non_asthma': 1.8644408688656475, 'sec_mid_asthma': 2.003669724770642, 'sec_low_non_asthma': 1.9144862795149968, 'sec_low_asthma': 2.1021505376344085, 'ethnicity_white_asthma': 2.2698412698412698, 'ethnicity_white_non_asthma': 2.0341796875, 'sec_mid_non_asthma': 1.9432191459408727}}\n",
      "{'2017': {'sec_mid_non_asthma': 1.497753451515399, 'ethnicity_minority_non_asthma': 1.4650351994636273, 'ethnicity_white_non_asthma': 1.501382998340402, 'sec_low_non_asthma': 1.4284407267023917, 'sec_high_asthma': 1.464339908952959, 'ethnicity_minority_asthma': 1.467386700550614, 'sec_mid_asthma': 1.4847552447552448, 'sec_low_asthma': 1.4180967238689548, 'sec_high_non_asthma': 1.5299844236760125, 'ethnicity_white_asthma': 1.4508086253369272}, '2018': {'sec_mid_non_asthma': 1.5281428571428572, 'ethnicity_minority_non_asthma': 1.4988165321357043, 'ethnicity_white_non_asthma': 1.519360685450651, 'sec_low_non_asthma': 1.4726287887518728, 'sec_mid_asthma': 1.4994853319608852, 'ethnicity_minority_asthma': 1.5032497678737233, 'sec_low_asthma': 1.5444870157513835, 'sec_high_asthma': 1.5191256830601092, 'sec_high_non_asthma': 1.5452638937434464, 'ethnicity_white_asthma': 1.5617391304347825}, '2019': {'sec_low_non_asthma': 1.472961373390558, 'sec_high_non_asthma': 1.5560842963970087, 'ethnicity_minority_non_asthma': 1.4861768226643106, 'sec_high_asthma': 1.5868983957219251, 'ethnicity_minority_asthma': 1.4848032817452919, 'sec_mid_asthma': 1.4862705941088368, 'sec_low_asthma': 1.4881325570980743, 'sec_mid_non_asthma': 1.5390748550342646, 'ethnicity_white_non_asthma': 1.5413590477625434, 'ethnicity_white_asthma': 1.5468577728776185}, '2020': {'sec_mid_asthma': 1.743433271424781, 'ethnicity_minority_asthma': 1.7964156262585582, 'sec_high_asthma': 1.8282694848084544, 'sec_high_non_asthma': 1.9271653543307086, 'ethnicity_white_non_asthma': 1.9520571234274056, 'sec_low_non_asthma': 1.936870642912471, 'ethnicity_minority_non_asthma': 1.884902411021814, 'sec_low_asthma': 1.8859315589353611, 'ethnicity_white_asthma': 1.8895315211104684, 'sec_mid_non_asthma': 1.9124035325005968}, '2021': {'sec_mid_non_asthma': 1.9208827327151075, 'ethnicity_minority_non_asthma': 1.8959871088470734, 'sec_high_asthma': 1.8978365384615385, 'ethnicity_minority_asthma': 1.8788689978249957, 'sec_low_asthma': 1.9530125047366427, 'sec_high_non_asthma': 1.9120521172638436, 'ethnicity_white_non_asthma': 1.9550663061671172, 'sec_low_non_asthma': 1.8912636922254875, 'sec_mid_asthma': 1.8700974835638178, 'ethnicity_white_asthma': 1.9086444007858545}}\n",
      "1.7013797308156995\n",
      "1.6639995994585057\n",
      "1.6648814625571289\n",
      "1.641581665242377\n",
      "1.6746297557045875\n",
      "1.6842473517357963\n",
      "1.7514018506184623\n",
      "1.6562808425103388\n",
      "1.7128859121354119\n",
      "1.6259644858115239\n",
      "1.6579320720780832\n",
      "1.616808385162713\n",
      "1.6592940022009972\n",
      "1.6404330447965563\n",
      "1.6796514857816451\n",
      "1.6941100170822039\n",
      "1.6261448748506369\n",
      "1.6715162901091305\n",
      "1.6461836148265057\n",
      "1.6938452322296236\n"
     ]
    }
   ],
   "source": [
    "# import ldn proportions\n",
    "%run ./ldn.ipynb"
   ]
  },
  {
   "cell_type": "code",
   "execution_count": 13,
   "metadata": {},
   "outputs": [
    {
     "name": "stdout",
     "output_type": "stream",
     "text": [
      "4945\n",
      "143 1736 2460\n",
      "REACH FAS low %: 0.03295690251209956\n",
      "REACH FAS mid %: 0.400092187139894\n",
      "REACH FAS high %: 0.5669509103480065\n",
      "977 3968\n",
      "1984.0\n",
      "REACH FSM low %: 0.19757330637007078\n",
      "REACH FSM mid %: 0.4012133468149646\n",
      "REACH FSM high %: 0.4012133468149646\n",
      "0.19757330637007078\n",
      "0.19757330637007078\n",
      "0.4840821285814856\n",
      "REACH low SEC: 12\n",
      "REACH mid SEC: 40\n",
      "REACH high SEC: 48\n",
      "100\n",
      "686 4259\n",
      "4945\n",
      "0.13872598584428716 0.8612740141557128\n",
      "REACH white british: 14\n",
      "REACH minority ethnic: 86\n",
      "100\n",
      "448\n",
      "4497\n",
      "6\n",
      "177\n",
      "214\n",
      "56\n",
      "1464\n",
      "1836\n",
      "REACH low SEC + depression: 1\n",
      "REACH mid SEC + depression: 5\n",
      "REACH high SEC + depression: 6\n",
      "REACH low SEC: 1\n",
      "REACH mid SEC: 39\n",
      "REACH high SEC: 49\n",
      "101\n",
      "87\n",
      "284\n",
      "599\n",
      "3085\n",
      "LDN minority ethnic + depression: 7\n",
      "LDN white british + depression: 2\n",
      "LDN minority ethnic: 76\n",
      "LDN white british: 15\n",
      "100\n"
     ]
    }
   ],
   "source": [
    "# import reach proportions\n",
    "%run ./reach.ipynb"
   ]
  },
  {
   "attachments": {},
   "cell_type": "markdown",
   "metadata": {},
   "source": [
    "Reaggregate LDN data with eLIXIR data"
   ]
  },
  {
   "cell_type": "code",
   "execution_count": 14,
   "metadata": {},
   "outputs": [],
   "source": [
    "elixir_sec_low = 78;\n",
    "elixir_sec_mid = 81;\n",
    "elixir_sec_high = 44;"
   ]
  },
  {
   "cell_type": "code",
   "execution_count": 15,
   "metadata": {},
   "outputs": [],
   "source": [
    "elixir_sec_total = elixir_sec_low + elixir_sec_mid + elixir_sec_high;"
   ]
  },
  {
   "cell_type": "code",
   "execution_count": 16,
   "metadata": {},
   "outputs": [],
   "source": [
    "elixir_sec_low_proportion = elixir_sec_low / elixir_sec_total;\n",
    "elixir_sec_mid_proportion = elixir_sec_mid / elixir_sec_total;\n",
    "elixir_sec_high_proportion = elixir_sec_high / elixir_sec_total;"
   ]
  },
  {
   "cell_type": "code",
   "execution_count": 17,
   "metadata": {},
   "outputs": [
    {
     "name": "stdout",
     "output_type": "stream",
     "text": [
      "1.0\n"
     ]
    }
   ],
   "source": [
    "# double check == 1\n",
    "print(elixir_sec_low_proportion + elixir_sec_mid_proportion + elixir_sec_high_proportion);"
   ]
  },
  {
   "cell_type": "code",
   "execution_count": 18,
   "metadata": {},
   "outputs": [
    {
     "name": "stdout",
     "output_type": "stream",
     "text": [
      "1.0\n",
      "1.0\n",
      "0.9999999999999999\n"
     ]
    }
   ],
   "source": [
    "# Precheck of proportions\n",
    "print(ldn_lsoa_low_proportion + ldn_lsoa_mid_proportion + ldn_lsoa_high_proportion);\n",
    "print(ldn_bmi_low_proportion + ldn_bmi_mid_proportion + ldn_bmi_high_proportion);\n",
    "print(ldn_covid_low_proportion + ldn_covid_mid_proportion + ldn_covid_high_proportion);"
   ]
  },
  {
   "cell_type": "code",
   "execution_count": 19,
   "metadata": {},
   "outputs": [
    {
     "name": "stdout",
     "output_type": "stream",
     "text": [
      "0.3676126115345559\n"
     ]
    }
   ],
   "source": [
    "# take average of four SEC measures, now including eLIXIR\n",
    "ldn_sec_low_proportion = (ldn_lsoa_low_proportion + ldn_bmi_low_proportion + ldn_covid_low_proportion + elixir_sec_low_proportion) / 4;\n",
    "print(ldn_sec_low_proportion);"
   ]
  },
  {
   "cell_type": "code",
   "execution_count": 20,
   "metadata": {},
   "outputs": [
    {
     "name": "stdout",
     "output_type": "stream",
     "text": [
      "0.3882326074258522\n"
     ]
    }
   ],
   "source": [
    "ldn_sec_mid_proportion = (ldn_lsoa_mid_proportion + ldn_bmi_mid_proportion + ldn_covid_mid_proportion + elixir_sec_mid_proportion) / 4;\n",
    "print(ldn_sec_mid_proportion);"
   ]
  },
  {
   "cell_type": "code",
   "execution_count": 21,
   "metadata": {},
   "outputs": [
    {
     "name": "stdout",
     "output_type": "stream",
     "text": [
      "0.24415478103959193\n"
     ]
    }
   ],
   "source": [
    "ldn_sec_high_proportion = (ldn_lsoa_high_proportion + ldn_bmi_high_proportion + ldn_covid_high_proportion + elixir_sec_high_proportion) / 4;\n",
    "print(ldn_sec_high_proportion);"
   ]
  },
  {
   "cell_type": "code",
   "execution_count": 22,
   "metadata": {},
   "outputs": [
    {
     "name": "stdout",
     "output_type": "stream",
     "text": [
      "1.0\n"
     ]
    }
   ],
   "source": [
    "# double check == 1\n",
    "print(ldn_sec_low_proportion + ldn_sec_mid_proportion + ldn_sec_high_proportion);"
   ]
  },
  {
   "attachments": {},
   "cell_type": "markdown",
   "metadata": {},
   "source": [
    "Aggregate LDN (and eLIXIR) and REACH"
   ]
  },
  {
   "cell_type": "code",
   "execution_count": 23,
   "metadata": {},
   "outputs": [
    {
     "name": "stdout",
     "output_type": "stream",
     "text": [
      "0.24143885798782053\n"
     ]
    }
   ],
   "source": [
    "# take average of two SEC measures from LDN and REACH\n",
    "sec_ldn_reach_low_proportion = (ldn_sec_low_proportion + reach_sec_low_proportion) / 2;\n",
    "print(sec_ldn_reach_low_proportion);"
   ]
  },
  {
   "cell_type": "code",
   "execution_count": 24,
   "metadata": {},
   "outputs": [
    {
     "name": "stdout",
     "output_type": "stream",
     "text": [
      "0.3944426872016408\n"
     ]
    }
   ],
   "source": [
    "sec_ldn_reach_mid_proportion = (ldn_sec_mid_proportion + reach_sec_mid_proportion) / 2;\n",
    "print(sec_ldn_reach_mid_proportion);"
   ]
  },
  {
   "cell_type": "code",
   "execution_count": 25,
   "metadata": {},
   "outputs": [
    {
     "name": "stdout",
     "output_type": "stream",
     "text": [
      "0.3641184548105387\n"
     ]
    }
   ],
   "source": [
    "sec_ldn_reach_high_proportion = (ldn_sec_high_proportion + reach_sec_high_proportion) / 2;\n",
    "print(sec_ldn_reach_high_proportion);"
   ]
  },
  {
   "cell_type": "code",
   "execution_count": 26,
   "metadata": {},
   "outputs": [
    {
     "name": "stdout",
     "output_type": "stream",
     "text": [
      "1.0\n"
     ]
    }
   ],
   "source": [
    "# double check == 1\n",
    "print(sec_ldn_reach_low_proportion + sec_ldn_reach_mid_proportion + sec_ldn_reach_high_proportion);"
   ]
  },
  {
   "attachments": {},
   "cell_type": "markdown",
   "metadata": {},
   "source": [
    "Distributions"
   ]
  },
  {
   "cell_type": "code",
   "execution_count": 27,
   "metadata": {},
   "outputs": [
    {
     "name": "stdout",
     "output_type": "stream",
     "text": [
      "24\n"
     ]
    }
   ],
   "source": [
    "# aggregate for /100\n",
    "sec_ldn_reach_low_proportion_100 = max(1, int(round(sec_ldn_reach_low_proportion, 2) * 100));\n",
    "print(sec_ldn_reach_low_proportion_100);"
   ]
  },
  {
   "cell_type": "code",
   "execution_count": 28,
   "metadata": {},
   "outputs": [
    {
     "name": "stdout",
     "output_type": "stream",
     "text": [
      "39\n"
     ]
    }
   ],
   "source": [
    "sec_ldn_reach_mid_proportion_100 = max(1, int(round(sec_ldn_reach_mid_proportion, 2) * 100));\n",
    "print(sec_ldn_reach_mid_proportion_100);"
   ]
  },
  {
   "cell_type": "code",
   "execution_count": 29,
   "metadata": {},
   "outputs": [
    {
     "name": "stdout",
     "output_type": "stream",
     "text": [
      "36\n"
     ]
    }
   ],
   "source": [
    "sec_ldn_reach_high_proportion_100 = max(1, int(round(sec_ldn_reach_high_proportion, 2) * 100));\n",
    "print(sec_ldn_reach_high_proportion_100);"
   ]
  },
  {
   "cell_type": "code",
   "execution_count": 30,
   "metadata": {},
   "outputs": [
    {
     "name": "stdout",
     "output_type": "stream",
     "text": [
      "99\n"
     ]
    }
   ],
   "source": [
    "print(sec_ldn_reach_low_proportion_100 + sec_ldn_reach_mid_proportion_100 + sec_ldn_reach_high_proportion_100)"
   ]
  },
  {
   "attachments": {},
   "cell_type": "markdown",
   "metadata": {},
   "source": [
    "<h3>Ethnicity</h3>"
   ]
  },
  {
   "attachments": {},
   "cell_type": "markdown",
   "metadata": {},
   "source": [
    "London perspective"
   ]
  },
  {
   "attachments": {},
   "cell_type": "markdown",
   "metadata": {},
   "source": [
    "Reaggregate LDN data with eLIXIR data"
   ]
  },
  {
   "cell_type": "code",
   "execution_count": 31,
   "metadata": {},
   "outputs": [],
   "source": [
    "elixir_ethnicity_white_british = 75;\n",
    "elixir_ethnicity_minority = 128;"
   ]
  },
  {
   "cell_type": "code",
   "execution_count": 32,
   "metadata": {},
   "outputs": [
    {
     "name": "stdout",
     "output_type": "stream",
     "text": [
      "43501\n"
     ]
    }
   ],
   "source": [
    "ldn_ethnicity_total = (ldn_ethnicity_white_british + elixir_ethnicity_white_british) + (ldn_ethnicity_minority + elixir_ethnicity_minority);\n",
    "print(ldn_ethnicity_total);"
   ]
  },
  {
   "cell_type": "code",
   "execution_count": 33,
   "metadata": {},
   "outputs": [
    {
     "name": "stdout",
     "output_type": "stream",
     "text": [
      "0.32268223718994965 0.6773177628100503\n"
     ]
    }
   ],
   "source": [
    "ldn_ethnicity_white_british_proportion = (ldn_ethnicity_white_british + elixir_ethnicity_white_british) / ldn_ethnicity_total;\n",
    "ldn_ethnicity_minority_proportion = (ldn_ethnicity_minority + elixir_ethnicity_minority) / ldn_ethnicity_total;\n",
    "print(str(ldn_ethnicity_white_british_proportion) + ' ' + str(ldn_ethnicity_minority_proportion));"
   ]
  },
  {
   "attachments": {},
   "cell_type": "markdown",
   "metadata": {},
   "source": [
    "Aggregate LDN (and eLIXIR) and REACH"
   ]
  },
  {
   "cell_type": "code",
   "execution_count": 34,
   "metadata": {},
   "outputs": [
    {
     "name": "stdout",
     "output_type": "stream",
     "text": [
      "0.2307041115171184\n"
     ]
    }
   ],
   "source": [
    "# take average of two Ethnicity measures from LDN and REACH\n",
    "sec_ldn_reach_white_british = (ldn_ethnicity_white_british_proportion + reach_ethnicity_white_british_proportion) / 2;\n",
    "print(sec_ldn_reach_white_british);"
   ]
  },
  {
   "cell_type": "code",
   "execution_count": 35,
   "metadata": {},
   "outputs": [
    {
     "name": "stdout",
     "output_type": "stream",
     "text": [
      "0.7692958884828816\n"
     ]
    }
   ],
   "source": [
    "sec_ldn_reach_minority = (ldn_ethnicity_minority_proportion + reach_ethnicity_minority_proportion) / 2;\n",
    "print(sec_ldn_reach_minority);"
   ]
  },
  {
   "cell_type": "code",
   "execution_count": 36,
   "metadata": {},
   "outputs": [
    {
     "name": "stdout",
     "output_type": "stream",
     "text": [
      "1.0\n"
     ]
    }
   ],
   "source": [
    "# double check == 1\n",
    "print(sec_ldn_reach_white_british + sec_ldn_reach_minority);"
   ]
  },
  {
   "attachments": {},
   "cell_type": "markdown",
   "metadata": {},
   "source": [
    "Distributions"
   ]
  },
  {
   "cell_type": "code",
   "execution_count": 37,
   "metadata": {},
   "outputs": [
    {
     "name": "stdout",
     "output_type": "stream",
     "text": [
      "77\n"
     ]
    }
   ],
   "source": [
    "sec_ldn_reach_minority_proportion_100 = max(1, int(round(sec_ldn_reach_minority, 2) * 100));\n",
    "print(sec_ldn_reach_minority_proportion_100);"
   ]
  },
  {
   "cell_type": "code",
   "execution_count": 38,
   "metadata": {},
   "outputs": [
    {
     "name": "stdout",
     "output_type": "stream",
     "text": [
      "23\n"
     ]
    }
   ],
   "source": [
    "# aggregate for /100\n",
    "sec_ldn_reach_white_british_proportion_100 = max(1, int(round(sec_ldn_reach_white_british, 2) * 100));\n",
    "print(sec_ldn_reach_white_british_proportion_100);"
   ]
  },
  {
   "cell_type": "code",
   "execution_count": 39,
   "metadata": {},
   "outputs": [
    {
     "name": "stdout",
     "output_type": "stream",
     "text": [
      "100\n"
     ]
    }
   ],
   "source": [
    "print(sec_ldn_reach_white_british_proportion_100 + sec_ldn_reach_minority_proportion_100)"
   ]
  }
 ],
 "metadata": {
  "kernelspec": {
   "display_name": ".venv",
   "language": "python",
   "name": "python3"
  },
  "language_info": {
   "codemirror_mode": {
    "name": "ipython",
    "version": 3
   },
   "file_extension": ".py",
   "mimetype": "text/x-python",
   "name": "python",
   "nbconvert_exporter": "python",
   "pygments_lexer": "ipython3",
   "version": "3.10.10"
  },
  "orig_nbformat": 4
 },
 "nbformat": 4,
 "nbformat_minor": 2
}
