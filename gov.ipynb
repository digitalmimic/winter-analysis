{
 "cells": [
  {
   "attachments": {},
   "cell_type": "markdown",
   "metadata": {},
   "source": [
    "<h2>UK Government</h2>"
   ]
  },
  {
   "cell_type": "code",
   "execution_count": 16,
   "metadata": {},
   "outputs": [],
   "source": [
    "import csv, itertools"
   ]
  },
  {
   "cell_type": "code",
   "execution_count": 17,
   "metadata": {},
   "outputs": [],
   "source": [
    "import configparser\n",
    "config = configparser.ConfigParser();\n",
    "config.read('config.properties');"
   ]
  },
  {
   "attachments": {},
   "cell_type": "markdown",
   "metadata": {},
   "source": [
    "<h3>Gas</h3>"
   ]
  },
  {
   "cell_type": "code",
   "execution_count": 18,
   "metadata": {},
   "outputs": [],
   "source": [
    "example_total_edge_costs = 500;"
   ]
  },
  {
   "attachments": {},
   "cell_type": "markdown",
   "metadata": {},
   "source": [
    "SEC"
   ]
  },
  {
   "cell_type": "code",
   "execution_count": 19,
   "metadata": {},
   "outputs": [
    {
     "name": "stdout",
     "output_type": "stream",
     "text": [
      "{'Bottom': 14508, '2nd': 23655, '3rd': 32349, '4th': 43490, 'Top': 66002}\n"
     ]
    }
   ],
   "source": [
    "with open(config.get('data', 'gov.path_income')) as f:\n",
    "    reader = csv.reader(f)\n",
    "    income_levels = {};\n",
    "    for row in itertools.islice(reader, 7, 12):\n",
    "        income_levels[row[0]] = int(row[3]);\n",
    "\n",
    "print(income_levels);"
   ]
  },
  {
   "cell_type": "code",
   "execution_count": 20,
   "metadata": {},
   "outputs": [
    {
     "name": "stdout",
     "output_type": "stream",
     "text": [
      "14508\n",
      "33164.666666666664\n",
      "66002\n"
     ]
    }
   ],
   "source": [
    "sec_low_income = income_levels['Bottom'];\n",
    "# take average for mid\n",
    "sec_mid_income = (income_levels['2nd'] + income_levels['3rd'] + income_levels['4th']) / 3;\n",
    "sec_high_income = income_levels['Top'];\n",
    "print(sec_low_income);\n",
    "print(sec_mid_income);\n",
    "print(sec_high_income);"
   ]
  },
  {
   "cell_type": "code",
   "execution_count": 21,
   "metadata": {},
   "outputs": [
    {
     "name": "stdout",
     "output_type": "stream",
     "text": [
      "0.5024797228366816\n",
      "251.2398614183408\n"
     ]
    }
   ],
   "source": [
    "# determine by what amount to decrement the highest gas figure by to represent middle income\n",
    "high_mid_decrement = sec_mid_income / sec_high_income;\n",
    "print(high_mid_decrement);\n",
    "# example\n",
    "print(high_mid_decrement * example_total_edge_costs);\n"
   ]
  },
  {
   "cell_type": "code",
   "execution_count": 22,
   "metadata": {},
   "outputs": [
    {
     "name": "stdout",
     "output_type": "stream",
     "text": [
      "0.21981152086300415\n",
      "109.90576043150207\n"
     ]
    }
   ],
   "source": [
    "# determine by what amount to decrement the highest gas figure by to represent low income\n",
    "high_low_decrement = sec_low_income / sec_high_income;\n",
    "print(high_low_decrement);\n",
    "# example\n",
    "print(high_low_decrement * example_total_edge_costs);"
   ]
  },
  {
   "attachments": {},
   "cell_type": "markdown",
   "metadata": {},
   "source": [
    "Ethnicity"
   ]
  },
  {
   "cell_type": "code",
   "execution_count": 23,
   "metadata": {},
   "outputs": [
    {
     "name": "stdout",
     "output_type": "stream",
     "text": [
      "3680556.0\n",
      "3266824.272727273\n"
     ]
    }
   ],
   "source": [
    "white_british_incomes = [];\n",
    "minority_ethnic_incomes = [];\n",
    "with open(config.get('data', 'gov.path_ethnicity')) as f:\n",
    "    reader = csv.DictReader(f)\n",
    "    for row in reader:\n",
    "        row_income = (int(row['Percentage of individuals in bottom income quintile (lowest income)']) * income_levels['Bottom']) + (int(row['Percentage of individuals in second income quintile']) * income_levels['2nd']) + (int(row['Percentage of individuals in third income quintile']) * income_levels['3rd']) + (int(row['Percentage of individuals in fourth income quintile']) * income_levels['4th']) + (int(row['Percentage of individuals in top income quintile (highest income)']) * income_levels['Top']);\n",
    "        if(row['Ethnicity']=='White'): white_british_incomes.append(row_income);\n",
    "        else: minority_ethnic_incomes.append(row_income);\n",
    "white_british_income = sum(white_british_incomes)/len(white_british_incomes);\n",
    "minority_ethnic_income = sum(minority_ethnic_incomes)/len(minority_ethnic_incomes);\n",
    "print(white_british_income);\n",
    "print(minority_ethnic_income);"
   ]
  },
  {
   "cell_type": "code",
   "execution_count": 24,
   "metadata": {},
   "outputs": [
    {
     "name": "stdout",
     "output_type": "stream",
     "text": [
      "0.8875898838999523\n",
      "443.79494194997613\n"
     ]
    }
   ],
   "source": [
    "# determine by what amount to decrement the highest gas figure by to represent the less well off ethnic group\n",
    "group_a_group_b_decrement = min(white_british_income, minority_ethnic_income) / max(white_british_income, minority_ethnic_income);\n",
    "print(group_a_group_b_decrement);\n",
    "# example\n",
    "print(group_a_group_b_decrement * example_total_edge_costs);"
   ]
  }
 ],
 "metadata": {
  "kernelspec": {
   "display_name": ".venv",
   "language": "python",
   "name": "python3"
  },
  "language_info": {
   "codemirror_mode": {
    "name": "ipython",
    "version": 3
   },
   "file_extension": ".py",
   "mimetype": "text/x-python",
   "name": "python",
   "nbconvert_exporter": "python",
   "pygments_lexer": "ipython3",
   "version": "3.10.10"
  },
  "orig_nbformat": 4
 },
 "nbformat": 4,
 "nbformat_minor": 2
}
