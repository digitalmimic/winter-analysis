{
 "cells": [
  {
   "attachments": {},
   "cell_type": "markdown",
   "metadata": {},
   "source": [
    "<h2>King's College London</h2>"
   ]
  },
  {
   "cell_type": "code",
   "execution_count": 15,
   "metadata": {},
   "outputs": [],
   "source": [
    "import csv, itertools"
   ]
  },
  {
   "cell_type": "code",
   "execution_count": 16,
   "metadata": {},
   "outputs": [],
   "source": [
    "import configparser\n",
    "config = configparser.ConfigParser();\n",
    "config.read('config.properties');"
   ]
  },
  {
   "cell_type": "code",
   "execution_count": 17,
   "metadata": {},
   "outputs": [],
   "source": [
    "# Behaviour distributions (% with which there would be uptake of the intervention)\n",
    "education_distribution, fuel_payment_distribution, vaccinations_distribution = 0, 0, 0;\n",
    "PARTICIPANTS = 22;"
   ]
  },
  {
   "attachments": {},
   "cell_type": "markdown",
   "metadata": {},
   "source": [
    "<h3>Behaviour</h3>"
   ]
  },
  {
   "cell_type": "code",
   "execution_count": 18,
   "metadata": {},
   "outputs": [],
   "source": [
    "# score each row in respect of positivity towards intervention\n",
    "def score_row(row, flip):\n",
    "    positive, negative = 1, 0;\n",
    "    # in some cases, a 'no' to a question is a positive in respect of whether an individual is receptive to an intervention, so we count 0s instead.\n",
    "    if flip: positive, negative = 0, 1;\n",
    "    # treat NAs as 0s\n",
    "    row = list(map(lambda cell:'0' if cell=='NA' else cell, row));\n",
    "    # parse\n",
    "    row = list(map(lambda cell:int(cell) if cell==str(positive) else int(cell) if cell==str(negative) else cell, row));\n",
    "    if(flip): row = list(map(lambda cell:1 if cell==0 else 0 if cell==1 else cell, row));\n",
    "    print('Question: ' + row[0]);\n",
    "    positives = sum(list(filter(lambda cell:cell==1, row)));\n",
    "    print('Positives: ' + str(positives));\n",
    "    print('Negatives: ' + str(PARTICIPANTS - positives));\n",
    "    score = positives / PARTICIPANTS;\n",
    "    print('Score: ' + str(score));\n",
    "    return score;"
   ]
  },
  {
   "cell_type": "code",
   "execution_count": 19,
   "metadata": {},
   "outputs": [],
   "source": [
    "# the row numbers of those questions to which an answer of 'no' means they are more likely to be receptive to the target intervention\n",
    "receptive_to_intervention_no_row = [12, 13, 25, 27, 30];"
   ]
  },
  {
   "cell_type": "code",
   "execution_count": 20,
   "metadata": {},
   "outputs": [
    {
     "name": "stdout",
     "output_type": "stream",
     "text": [
      "Question: 1.Have you seen or read about energy saving tips via TV adverts, shows, newspaper articles etc?\n",
      "Positives: 21\n",
      "Negatives: 1\n",
      "Score: 0.9545454545454546\n",
      "Question: 2. Do you understand how to implement the energy saving tips you have seen or read about?\n",
      "Positives: 13\n",
      "Negatives: 9\n",
      "Score: 0.5909090909090909\n",
      "Question: 3.If Yes, do you think these adverts were helpful in leading you to make any behaviour changes?\n",
      "Positives: 3\n",
      "Negatives: 19\n",
      "Score: 0.13636363636363635\n",
      "Question: 4.If No, do you think these adverts would be helpful in leading you to make any behaviour changes?\n",
      "Positives: 15\n",
      "Negatives: 7\n",
      "Score: 0.6818181818181818\n",
      "Question: 5.Would you use the internet to access tips on how to save energy? \n",
      "Positives: 18\n",
      "Negatives: 4\n",
      "Score: 0.8181818181818182\n",
      "Question: 1.Do you think that a Smart Meter would be/is helpful for managing gas and electricity bills?\n",
      "Positives: 18\n",
      "Negatives: 4\n",
      "Score: 0.8181818181818182\n",
      "Question: 2. Are you aware that you can use a phone application to track Smart Meter readings?\n",
      "Positives: 9\n",
      "Negatives: 13\n",
      "Score: 0.4090909090909091\n",
      "Question: 3. Would you find using a mobile phone application to keep track of your gas and electricity bills helpful?\n",
      "Positives: 14\n",
      "Negatives: 8\n",
      "Score: 0.6363636363636364\n",
      "Question: 1.Were you previously aware of the Household Support Fund?\n",
      "Positives: 13\n",
      "Negatives: 9\n",
      "Score: 0.5909090909090909\n",
      "Question: 2. If you felt that you needed the support, would you try to access the Household Support Fund?\n",
      "Positives: 17\n",
      "Negatives: 5\n",
      "Score: 0.7727272727272727\n",
      "Question: 3.Are you aware of the application process for accessing the Household Support Fund? \n",
      "Positives: 7\n",
      "Negatives: 15\n",
      "Score: 0.3181818181818182\n",
      "Question: 4.If you are aware of the application process, would you deem it to be complex? \n",
      "Positives: 8\n",
      "Negatives: 14\n",
      "Score: 0.36363636363636365\n",
      "Question: 5. Are you aware of any challenges associated with the Household Support Fund application process?\n",
      "Positives: 12\n",
      "Negatives: 10\n",
      "Score: 0.5454545454545454\n",
      "Question: 6.If you are not aware of the application process, do you expect that it would be a long, time-consuming, difficult and/ or complex process?\n",
      "Positives: 7\n",
      "Negatives: 15\n",
      "Score: 0.3181818181818182\n",
      "Question: 7. If the application process was predominantly online, would you be more likely to access it?\n",
      "Positives: 19\n",
      "Negatives: 3\n",
      "Score: 0.8636363636363636\n",
      "Question: 8. Are you aware that you require a bank account to receive the Household Support Fund?\n",
      "Positives: 13\n",
      "Negatives: 9\n",
      "Score: 0.5909090909090909\n",
      "Question: 1.Were you previously aware of the Warm Home Discount Scheme? \n",
      "Positives: 15\n",
      "Negatives: 7\n",
      "Score: 0.6818181818181818\n",
      "Question: 2. If you felt that you needed the support, would you try to access the Warm Home Discount Scheme?\n",
      "Positives: 20\n",
      "Negatives: 2\n",
      "Score: 0.9090909090909091\n",
      "Question: 3.Are you aware of the process for accessing the Warm Home Discount Scheme? \n",
      "Positives: 4\n",
      "Negatives: 18\n",
      "Score: 0.18181818181818182\n",
      "Question: 4.Are you aware of any challenges associated with accessing the Warm Home Discount Scheme?\n",
      "Positives: 5\n",
      "Negatives: 17\n",
      "Score: 0.22727272727272727\n",
      "Question: 5.If you are aware of the application process, would you deem it to be complex? \n",
      "Positives: 2\n",
      "Negatives: 20\n",
      "Score: 0.09090909090909091\n",
      "Question: 1.Are you aware that water providers have schemes that support customers in paying water bills?\n",
      "Positives: 16\n",
      "Negatives: 6\n",
      "Score: 0.7272727272727273\n",
      "Question: 2. If you felt that you needed the support, would you try to access the water bill support schemes?\n",
      "Positives: 19\n",
      "Negatives: 3\n",
      "Score: 0.8636363636363636\n",
      "Question: 3.Are you aware of the application process of accessing water bill support schemes?\n",
      "Positives: 11\n",
      "Negatives: 11\n",
      "Score: 0.5\n",
      "Question: 4.Are you aware of any challenges associated with accessing water bill support schemes?\n",
      "Positives: 7\n",
      "Negatives: 15\n",
      "Score: 0.3181818181818182\n",
      "Question: 5.If you are not aware of the application process, do you anticipate that it would be a long, time-consuming, difficult and/ or complex process?\n",
      "Positives: 10\n",
      "Negatives: 12\n",
      "Score: 0.45454545454545453\n",
      "Question: 6.If you are aware of the application process, would you deem it to be complex? \n",
      "Positives: 8\n",
      "Negatives: 14\n",
      "Score: 0.36363636363636365\n",
      "Question: 1.Are you aware that free Flu Vaccines are available in the community for people that meet certain criteria?\n",
      "Positives: 21\n",
      "Negatives: 1\n",
      "Score: 0.9545454545454546\n",
      "Question: 2.Would you know where to go to access information on the Flu Vaccine or to get the Flu Vaccine? \n",
      "Positives: 21\n",
      "Negatives: 1\n",
      "Score: 0.9545454545454546\n",
      "Question: 3.Are you aware that children in primary school have access to free flu vaccines?\n",
      "Positives: 17\n",
      "Negatives: 5\n",
      "Score: 0.7727272727272727\n"
     ]
    }
   ],
   "source": [
    "education_scores = [];\n",
    "fuel_payment_scores = [];\n",
    "vaccinations_scores =[];\n",
    "\n",
    "questionnaire_data = open(config.get('data', 'kcl.path'));\n",
    "\n",
    "reader = csv.reader(questionnaire_data)\n",
    "questions = list(map(lambda question:question[0], list(reader)[1:]));\n",
    "questionnaire_data.seek(0);\n",
    "education = itertools.islice(reader, 1, 9)\n",
    "flip = False;\n",
    "for row in education:\n",
    "    education_scores.append(score_row(row, questions.index(row[0]) in receptive_to_intervention_no_row));\n",
    "fuel_payments = itertools.islice(reader, 0, 19);\n",
    "for row in fuel_payments:\n",
    "    fuel_payment_scores.append(score_row(row, questions.index(row[0]) in receptive_to_intervention_no_row));\n",
    "vaccinations = itertools.islice(reader, 5, 10);\n",
    "for row in vaccinations:\n",
    "    vaccinations_scores.append(score_row(row, questions.index(row[0]) in receptive_to_intervention_no_row));\n",
    "\n",
    "questionnaire_data.close();"
   ]
  },
  {
   "attachments": {},
   "cell_type": "markdown",
   "metadata": {},
   "source": [
    "Distributions"
   ]
  },
  {
   "cell_type": "code",
   "execution_count": 21,
   "metadata": {},
   "outputs": [
    {
     "name": "stdout",
     "output_type": "stream",
     "text": [
      "63.0 51.0 89.0\n"
     ]
    }
   ],
   "source": [
    "education_distribution = sum(education_scores) / len(education_scores);\n",
    "fuel_payment_distribution = sum(fuel_payment_scores) / len(fuel_payment_scores);\n",
    "vaccinations_distribution = sum(vaccinations_scores) / len(vaccinations_scores);\n",
    "print(str(round(education_distribution, 2) * 100) + \" \" + str(round(fuel_payment_distribution, 2) * 100) + \" \" + str(round(vaccinations_distribution, 2) *100));"
   ]
  }
 ],
 "metadata": {
  "kernelspec": {
   "display_name": ".venv",
   "language": "python",
   "name": "python3"
  },
  "language_info": {
   "codemirror_mode": {
    "name": "ipython",
    "version": 3
   },
   "file_extension": ".py",
   "mimetype": "text/x-python",
   "name": "python",
   "nbconvert_exporter": "python",
   "pygments_lexer": "ipython3",
   "version": "3.10.10"
  },
  "orig_nbformat": 4
 },
 "nbformat": 4,
 "nbformat_minor": 2
}
