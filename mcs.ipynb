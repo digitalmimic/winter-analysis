{
 "cells": [
  {
   "attachments": {},
   "cell_type": "markdown",
   "metadata": {},
   "source": [
    "<h2>Millennium Cohort Study (MCS)</h2>"
   ]
  },
  {
   "attachments": {},
   "cell_type": "markdown",
   "metadata": {},
   "source": [
    "National perspective"
   ]
  },
  {
   "cell_type": "code",
   "execution_count": 1,
   "metadata": {},
   "outputs": [],
   "source": [
    "import csv"
   ]
  },
  {
   "cell_type": "code",
   "execution_count": 2,
   "metadata": {},
   "outputs": [],
   "source": [
    "import configparser\n",
    "config = configparser.ConfigParser();\n",
    "config.read('config.properties');"
   ]
  },
  {
   "cell_type": "code",
   "execution_count": 3,
   "metadata": {},
   "outputs": [],
   "source": [
    "# SEC\n",
    "sec_mcs_low_proportion, sec_mcs_mid_proportion, sec_mcs_high_proportion = 0, 0, 0;"
   ]
  },
  {
   "cell_type": "markdown",
   "metadata": {},
   "source": [
    "<h3>SEC</h3>"
   ]
  },
  {
   "attachments": {},
   "cell_type": "markdown",
   "metadata": {},
   "source": [
    "Questionnaire"
   ]
  },
  {
   "cell_type": "code",
   "execution_count": 4,
   "metadata": {},
   "outputs": [],
   "source": [
    "# Process MCS parent questionnaire data to infer various SEC groupings\n",
    "sec_mcs_low, sec_mcs_mid, sec_mcs_high = 0, 0, 0\n",
    "with open(config.get('data', 'mcs.path')) as f:\n",
    "  reader = csv.DictReader(f);\n",
    "  # NB MCS is 0-18 by default so use all (i.e. all entries pertain to a household with children of this age)\n",
    "  for row in reader:\n",
    "    # If occupation is the same as stated previously, has been the continuous role, and the occuptation listed is valid:\n",
    "    if(int(row[\"CHJB\"])==1 and int(row[\"CONJ\"])==1 and int(row[\"COM1\"])>=1 and int(row[\"COM1\"])<=11):\n",
    "      work = int(row[\"COM1\"]);\n",
    "    # If there is a new occuptation and it is valid\n",
    "    elif(int(row[\"NWRKA0\"])>=1 and int(row[\"NWRKA0\"])<=11):\n",
    "      work = int(row[\"NWRKA0\"]);\n",
    "\n",
    "    # If the nature of the work is employment, determine SEC\n",
    "    if(work>=1 and work<=4):\n",
    "      work_description = int(row[\"ENJDA0\"]);\n",
    "      if(work_description==5 or work_description==6):\n",
    "        sec_mcs_low+=1;\n",
    "      if(work_description==1 or work_description==2 or work_description==4 or work_description==7):\n",
    "        sec_mcs_mid+=1;\n",
    "      elif(work_description==3 or work_description==8):\n",
    "        sec_mcs_high+=1;\n",
    "    # Unemployment considered low SEC\n",
    "    else:\n",
    "      sec_mcs_low+=1;"
   ]
  },
  {
   "cell_type": "code",
   "execution_count": 5,
   "metadata": {},
   "outputs": [
    {
     "name": "stdout",
     "output_type": "stream",
     "text": [
      "1224 1463 796\n"
     ]
    }
   ],
   "source": [
    "print(str(sec_mcs_low) + \" \" + str(sec_mcs_mid) + \" \" + str(sec_mcs_high));"
   ]
  },
  {
   "cell_type": "code",
   "execution_count": 6,
   "metadata": {},
   "outputs": [],
   "source": [
    "# calculate total for proportions\n",
    "sec_mcs_total = sec_mcs_low + sec_mcs_mid + sec_mcs_high;"
   ]
  },
  {
   "cell_type": "code",
   "execution_count": 7,
   "metadata": {},
   "outputs": [
    {
     "name": "stdout",
     "output_type": "stream",
     "text": [
      "MCS low %: 0.35142118863049093\n"
     ]
    }
   ],
   "source": [
    "sec_mcs_low_proportion = sec_mcs_low/sec_mcs_total;\n",
    "print(\"MCS low %: \" + str(sec_mcs_low_proportion));"
   ]
  },
  {
   "cell_type": "code",
   "execution_count": 8,
   "metadata": {},
   "outputs": [
    {
     "name": "stdout",
     "output_type": "stream",
     "text": [
      "MCS mid %: 0.42004019523399366\n"
     ]
    }
   ],
   "source": [
    "sec_mcs_mid_proportion = sec_mcs_mid/sec_mcs_total;\n",
    "print(\"MCS mid %: \" + str(sec_mcs_mid_proportion));"
   ]
  },
  {
   "cell_type": "code",
   "execution_count": 9,
   "metadata": {},
   "outputs": [
    {
     "name": "stdout",
     "output_type": "stream",
     "text": [
      "MCS high %: 0.22853861613551535\n"
     ]
    }
   ],
   "source": [
    "sec_mcs_high_proportion = sec_mcs_high/sec_mcs_total;\n",
    "print(\"MCS high %: \" + str(sec_mcs_high_proportion));"
   ]
  }
 ],
 "metadata": {
  "kernelspec": {
   "display_name": ".venv",
   "language": "python",
   "name": "python3"
  },
  "language_info": {
   "codemirror_mode": {
    "name": "ipython",
    "version": 3
   },
   "file_extension": ".py",
   "mimetype": "text/x-python",
   "name": "python",
   "nbconvert_exporter": "python",
   "pygments_lexer": "ipython3",
   "version": "3.10.10"
  },
  "orig_nbformat": 4
 },
 "nbformat": 4,
 "nbformat_minor": 2
}
