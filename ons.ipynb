{
 "cells": [
  {
   "attachments": {},
   "cell_type": "markdown",
   "metadata": {},
   "source": [
    "<h2>Office for National Statistics (ONS)</h2>"
   ]
  },
  {
   "attachments": {},
   "cell_type": "markdown",
   "metadata": {},
   "source": [
    "National perspective"
   ]
  },
  {
   "cell_type": "code",
   "execution_count": 16,
   "metadata": {},
   "outputs": [],
   "source": [
    "import csv"
   ]
  },
  {
   "cell_type": "code",
   "execution_count": 17,
   "metadata": {},
   "outputs": [],
   "source": [
    "import configparser\n",
    "config = configparser.ConfigParser();\n",
    "config.read('config.properties');"
   ]
  },
  {
   "cell_type": "code",
   "execution_count": 18,
   "metadata": {},
   "outputs": [],
   "source": [
    "# SEC\n",
    "sec_ons_low_proportion, sec_ons_mid_proportion, sec_ons_high_proportion = 0, 0, 0;"
   ]
  },
  {
   "cell_type": "markdown",
   "metadata": {},
   "source": [
    "<h3>SEC</h3>"
   ]
  },
  {
   "attachments": {},
   "cell_type": "markdown",
   "metadata": {},
   "source": [
    "Deaths data and NS-SEC"
   ]
  },
  {
   "cell_type": "code",
   "execution_count": 19,
   "metadata": {},
   "outputs": [],
   "source": [
    "# Process ONS deaths data to infer SEC groupings\n",
    "sec_ons_low, sec_ons_mid, sec_ons_high = 0, 0, 0\n",
    "with open(config.get('data', 'ons.path')) as f:\n",
    "  reader = csv.DictReader(f)\n",
    "  for row in reader:\n",
    "    NSSEC = float(row[\"NSSEC\"]);\n",
    "    # Only include participants of age range of interest (5 columns)\n",
    "    row_death_sum = sum([int(row[i]) for i in reader.fieldnames[3:8]]);\n",
    "    if(NSSEC>=1 and NSSEC<=2):\n",
    "        sec_ons_high += row_death_sum;\n",
    "    elif(NSSEC>=3 and NSSEC<=6):\n",
    "        sec_ons_mid += row_death_sum;\n",
    "    elif(NSSEC>=7 and NSSEC<=8):\n",
    "        sec_ons_low += row_death_sum;"
   ]
  },
  {
   "cell_type": "code",
   "execution_count": 20,
   "metadata": {},
   "outputs": [
    {
     "name": "stdout",
     "output_type": "stream",
     "text": [
      "915 4446 3228\n"
     ]
    }
   ],
   "source": [
    "print(str(sec_ons_low) + \" \" + str(sec_ons_mid) + \" \" + str(sec_ons_high));"
   ]
  },
  {
   "cell_type": "code",
   "execution_count": 21,
   "metadata": {},
   "outputs": [],
   "source": [
    "sec_ons_total = sec_ons_low + sec_ons_mid + sec_ons_high;"
   ]
  },
  {
   "cell_type": "code",
   "execution_count": 22,
   "metadata": {},
   "outputs": [
    {
     "name": "stdout",
     "output_type": "stream",
     "text": [
      "ONS low %: 0.10653161019909187\n"
     ]
    }
   ],
   "source": [
    "sec_ons_low_proportion = sec_ons_low/sec_ons_total;\n",
    "print(\"ONS low %: \" + str(sec_ons_low_proportion));"
   ]
  },
  {
   "cell_type": "code",
   "execution_count": 23,
   "metadata": {},
   "outputs": [
    {
     "name": "stdout",
     "output_type": "stream",
     "text": [
      "ONS mid %: 0.5176388403772267\n"
     ]
    }
   ],
   "source": [
    "sec_ons_mid_proportion = sec_ons_mid/sec_ons_total;\n",
    "print(\"ONS mid %: \" + str(sec_ons_mid_proportion));"
   ]
  },
  {
   "cell_type": "code",
   "execution_count": 24,
   "metadata": {},
   "outputs": [
    {
     "name": "stdout",
     "output_type": "stream",
     "text": [
      "ONS high %: 0.37582954942368146\n"
     ]
    }
   ],
   "source": [
    "sec_ons_high_proportion = sec_ons_high/sec_ons_total;\n",
    "print(\"ONS high %: \" + str(sec_ons_high_proportion));"
   ]
  },
  {
   "cell_type": "code",
   "execution_count": 25,
   "metadata": {},
   "outputs": [
    {
     "name": "stdout",
     "output_type": "stream",
     "text": [
      "1.0\n"
     ]
    }
   ],
   "source": [
    "print(sec_ons_low_proportion + sec_ons_mid_proportion + sec_ons_high_proportion);"
   ]
  }
 ],
 "metadata": {
  "kernelspec": {
   "display_name": ".venv",
   "language": "python",
   "name": "python3"
  },
  "language_info": {
   "codemirror_mode": {
    "name": "ipython",
    "version": 3
   },
   "file_extension": ".py",
   "mimetype": "text/x-python",
   "name": "python",
   "nbconvert_exporter": "python",
   "pygments_lexer": "ipython3",
   "version": "3.10.10"
  },
  "orig_nbformat": 4
 },
 "nbformat": 4,
 "nbformat_minor": 2
}
