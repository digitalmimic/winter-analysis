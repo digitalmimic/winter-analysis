{
 "cells": [
  {
   "attachments": {},
   "cell_type": "markdown",
   "metadata": {},
   "source": [
    "<h2>Resilience, Ethnicity & AdolesCent Mental Health (REACH)</h2>"
   ]
  },
  {
   "attachments": {},
   "cell_type": "markdown",
   "metadata": {},
   "source": [
    "London perspective"
   ]
  },
  {
   "cell_type": "code",
   "execution_count": 36,
   "metadata": {},
   "outputs": [],
   "source": [
    "import csv;"
   ]
  },
  {
   "cell_type": "code",
   "execution_count": 37,
   "metadata": {},
   "outputs": [],
   "source": [
    "import configparser\n",
    "config = configparser.ConfigParser();\n",
    "config.read('config.properties');"
   ]
  },
  {
   "cell_type": "code",
   "execution_count": 38,
   "metadata": {},
   "outputs": [],
   "source": [
    "# SEC distributions\n",
    "reach_sec_low_proportion_100, reach_sec_mid_proportion_100, reach_sec_high_proportion_100 = 0, 0, 0;\n",
    "# Ethnicity distributions\n",
    "reach_ethnicity_white_british_proportion_100, reach_ethnicity_minority_proportion_100 = 0, 0;"
   ]
  },
  {
   "cell_type": "code",
   "execution_count": 39,
   "metadata": {},
   "outputs": [
    {
     "name": "stdout",
     "output_type": "stream",
     "text": [
      "4945\n"
     ]
    }
   ],
   "source": [
    "individuals = {};\n",
    "# load patient data\n",
    "class Individual:\n",
    "    def __init__(self, id, age, sex, ethnicity, fas, fsm, depression):\n",
    "        self.__id = id;\n",
    "        self.__age = age;\n",
    "        self.__sex = sex;\n",
    "        self.__ethnicity = ethnicity;\n",
    "        # Family afluence score\n",
    "        self.__fas = fas;\n",
    "        # Free school meals\n",
    "        self.__fsm = fsm;\n",
    "        self.__depression = depression;\n",
    "\n",
    "    def get_id(self): return self.__id;\n",
    "    def get_age(self): return self.__age;\n",
    "    def get_sex(self): return self.__sex;\n",
    "    def get_ethnicity(self): return self.__ethnicity;\n",
    "    def get_fas(self): return self.__fas;\n",
    "    def get_fsm(self): return self.__fsm;\n",
    "    def get_depression(self): return self.__depression;\n",
    "\n",
    "with open(config.get('data', 'reach.path')) as f:\n",
    "    reader = csv.DictReader(f)\n",
    "    for row in reader:\n",
    "        individuals[row['id_anon']] = Individual(row['id_anon'], int(float(row['t1p1_age'])) if row['t1p1_age'] else '', ('M' if row['t123_sexatbirth']=='male' else 'F' if row['t123_sexatbirth']=='female' else ''), row['t123_ethn10res'], row['t1p1_fas_3grp'], True if row['t1p1_chfsm']=='yes' else False if row['t1p1_chfsm']=='no' else '', True if row['t1p1_smfq2cat_excm']=='possible depression' else False if row['t1p1_smfq2cat_excm']=='healthy' else '');\n",
    "\n",
    "# print number of individuals (for interest)\n",
    "print(len(individuals));"
   ]
  },
  {
   "attachments": {},
   "cell_type": "markdown",
   "metadata": {},
   "source": [
    "<h3>SEC</h3>"
   ]
  },
  {
   "attachments": {},
   "cell_type": "markdown",
   "metadata": {},
   "source": [
    "Family affluence scale"
   ]
  },
  {
   "cell_type": "code",
   "execution_count": 40,
   "metadata": {},
   "outputs": [
    {
     "name": "stdout",
     "output_type": "stream",
     "text": [
      "143 1736 2460\n"
     ]
    }
   ],
   "source": [
    "reach_individual_to_fas_sec = {};\n",
    "reach_fas_low = len(list(filter(lambda individual:individual.get_fas()=='low affluence', individuals.values())));\n",
    "reach_fas_mid = len(list(filter(lambda individual:individual.get_fas()=='medium affluence', individuals.values()))); \n",
    "reach_fas_high = len(list(filter(lambda individual:individual.get_fas()=='high affluence', individuals.values())));\n",
    "\n",
    "for individual in individuals.values():\n",
    "    if(individual.get_fas()=='low affluence'):\n",
    "        reach_individual_to_fas_sec[individual.get_id()] = 'low';\n",
    "    elif(individual.get_fas()=='medium affluence'):\n",
    "        reach_individual_to_fas_sec[individual.get_id()] = 'mid';\n",
    "    elif(individual.get_fas()=='high affluence'):\n",
    "        reach_individual_to_fas_sec[individual.get_id()] = 'high';\n",
    "\n",
    "print(str(reach_fas_low) + ' ' + str(reach_fas_mid) + ' ' + str(reach_fas_high));\n"
   ]
  },
  {
   "cell_type": "code",
   "execution_count": 41,
   "metadata": {},
   "outputs": [],
   "source": [
    "reach_fas_total = reach_fas_low + reach_fas_mid + reach_fas_high;"
   ]
  },
  {
   "cell_type": "code",
   "execution_count": 42,
   "metadata": {},
   "outputs": [
    {
     "name": "stdout",
     "output_type": "stream",
     "text": [
      "REACH FAS low %: 0.03295690251209956\n"
     ]
    }
   ],
   "source": [
    "reach_fas_low_proportion = reach_fas_low / reach_fas_total;\n",
    "print('REACH FAS low %: ' + str(reach_fas_low_proportion));"
   ]
  },
  {
   "cell_type": "code",
   "execution_count": 43,
   "metadata": {},
   "outputs": [
    {
     "name": "stdout",
     "output_type": "stream",
     "text": [
      "REACH FAS mid %: 0.400092187139894\n"
     ]
    }
   ],
   "source": [
    "reach_fas_mid_proportion = reach_fas_mid / reach_fas_total;\n",
    "print('REACH FAS mid %: ' + str(reach_fas_mid_proportion));"
   ]
  },
  {
   "cell_type": "code",
   "execution_count": 44,
   "metadata": {},
   "outputs": [
    {
     "name": "stdout",
     "output_type": "stream",
     "text": [
      "REACH FAS high %: 0.5669509103480065\n"
     ]
    }
   ],
   "source": [
    "reach_fas_high_proportion = reach_fas_high / reach_fas_total;\n",
    "print('REACH FAS high %: ' + str(reach_fas_high_proportion));"
   ]
  },
  {
   "attachments": {},
   "cell_type": "markdown",
   "metadata": {},
   "source": [
    "Free school meals"
   ]
  },
  {
   "cell_type": "code",
   "execution_count": 45,
   "metadata": {},
   "outputs": [
    {
     "name": "stdout",
     "output_type": "stream",
     "text": [
      "977 3968\n"
     ]
    }
   ],
   "source": [
    "reach_individual_to_fsm_sec = {};\n",
    "reach_fsm_low= len(list(filter(lambda individual:individual.get_fsm(), individuals.values())));\n",
    "reach_fsm_mid_high = len(list(filter(lambda individual:not individual.get_fsm(), individuals.values()))); \n",
    "\n",
    "for individual in individuals.values():\n",
    "    if(individual.get_fsm()):\n",
    "        reach_individual_to_fsm_sec[individual.get_id()] = 'low';\n",
    "    elif(not individual.get_fsm()):\n",
    "        reach_individual_to_fsm_sec[individual.get_id()] = 'mid or high';\n",
    "\n",
    "print(str(reach_fsm_low) + ' ' + str(reach_fsm_mid_high));\n"
   ]
  },
  {
   "cell_type": "code",
   "execution_count": 46,
   "metadata": {},
   "outputs": [
    {
     "name": "stdout",
     "output_type": "stream",
     "text": [
      "1984.0\n"
     ]
    }
   ],
   "source": [
    "reach_fsm_mid = reach_fsm_mid_high / 2;\n",
    "reach_fsm_high = reach_fsm_mid_high / 2;\n",
    "print(reach_fsm_mid);"
   ]
  },
  {
   "cell_type": "code",
   "execution_count": 47,
   "metadata": {},
   "outputs": [],
   "source": [
    "reach_fsm_total = reach_fsm_low + reach_fsm_mid + reach_fsm_high;"
   ]
  },
  {
   "cell_type": "code",
   "execution_count": 48,
   "metadata": {},
   "outputs": [
    {
     "name": "stdout",
     "output_type": "stream",
     "text": [
      "REACH FSM low %: 0.19757330637007078\n"
     ]
    }
   ],
   "source": [
    "reach_fsm_low_proportion = reach_fsm_low / reach_fsm_total;\n",
    "print('REACH FSM low %: ' + str(reach_fsm_low_proportion));"
   ]
  },
  {
   "cell_type": "code",
   "execution_count": 49,
   "metadata": {},
   "outputs": [
    {
     "name": "stdout",
     "output_type": "stream",
     "text": [
      "REACH FSM mid %: 0.4012133468149646\n"
     ]
    }
   ],
   "source": [
    "reach_fsm_mid_proportion = reach_fsm_mid / reach_fsm_total;\n",
    "print('REACH FSM mid %: ' + str(reach_fsm_mid_proportion));"
   ]
  },
  {
   "cell_type": "code",
   "execution_count": 50,
   "metadata": {},
   "outputs": [
    {
     "name": "stdout",
     "output_type": "stream",
     "text": [
      "REACH FSM high %: 0.4012133468149646\n"
     ]
    }
   ],
   "source": [
    "reach_fsm_high_proportion = reach_fsm_high / reach_fsm_total;\n",
    "print('REACH FSM high %: ' + str(reach_fsm_high_proportion));"
   ]
  },
  {
   "attachments": {},
   "cell_type": "markdown",
   "metadata": {},
   "source": [
    "Aggregate"
   ]
  },
  {
   "cell_type": "code",
   "execution_count": 51,
   "metadata": {},
   "outputs": [
    {
     "name": "stdout",
     "output_type": "stream",
     "text": [
      "0.19757330637007078\n"
     ]
    }
   ],
   "source": [
    "# take average of two SEC measures from REACH\n",
    "reach_sec_low_proportion = (reach_fas_low_proportion + reach_fsm_low_proportion) / 2;\n",
    "print(reach_fsm_low_proportion);"
   ]
  },
  {
   "cell_type": "code",
   "execution_count": 52,
   "metadata": {},
   "outputs": [
    {
     "name": "stdout",
     "output_type": "stream",
     "text": [
      "0.19757330637007078\n"
     ]
    }
   ],
   "source": [
    "reach_sec_mid_proportion = (reach_fas_mid_proportion + reach_fsm_mid_proportion) / 2;\n",
    "print(reach_fsm_low_proportion);"
   ]
  },
  {
   "cell_type": "code",
   "execution_count": 53,
   "metadata": {},
   "outputs": [
    {
     "name": "stdout",
     "output_type": "stream",
     "text": [
      "0.4840821285814856\n"
     ]
    }
   ],
   "source": [
    "reach_sec_high_proportion = (reach_fas_high_proportion + reach_fsm_high_proportion) / 2;\n",
    "print(reach_sec_high_proportion);"
   ]
  },
  {
   "attachments": {},
   "cell_type": "markdown",
   "metadata": {},
   "source": [
    "Distributions"
   ]
  },
  {
   "cell_type": "code",
   "execution_count": 54,
   "metadata": {},
   "outputs": [
    {
     "name": "stdout",
     "output_type": "stream",
     "text": [
      "REACH low SEC: 12\n",
      "REACH mid SEC: 40\n",
      "REACH high SEC: 48\n"
     ]
    }
   ],
   "source": [
    "# aggregate for /100\n",
    "reach_sec_low_proportion_100 = max(1, int(round(reach_sec_low_proportion, 2) * 100));\n",
    "print(\"REACH low SEC: \" + str(reach_sec_low_proportion_100));\n",
    "reach_sec_mid_proportion_100 = max(1, int(round(reach_sec_mid_proportion, 2) * 100));\n",
    "print(\"REACH mid SEC: \" + str(reach_sec_mid_proportion_100));\n",
    "reach_sec_high_proportion_100 = max(1, int(round(reach_sec_high_proportion, 2) * 100));\n",
    "print(\"REACH high SEC: \" + str(reach_sec_high_proportion_100));"
   ]
  },
  {
   "cell_type": "code",
   "execution_count": 55,
   "metadata": {},
   "outputs": [
    {
     "name": "stdout",
     "output_type": "stream",
     "text": [
      "100\n"
     ]
    }
   ],
   "source": [
    "print(reach_sec_low_proportion_100 + reach_sec_mid_proportion_100 + reach_sec_high_proportion_100);"
   ]
  },
  {
   "attachments": {},
   "cell_type": "markdown",
   "metadata": {},
   "source": [
    "<h3>Ethnicity<h3>"
   ]
  },
  {
   "cell_type": "code",
   "execution_count": 56,
   "metadata": {},
   "outputs": [
    {
     "name": "stdout",
     "output_type": "stream",
     "text": [
      "686 4259\n"
     ]
    }
   ],
   "source": [
    "# Identify two groups\n",
    "reach_individual_to_ethnicity = {};\n",
    "reach_ethnicity_white_british= len(list(filter(lambda individual:individual.get_ethnicity()=='White British', individuals.values())));\n",
    "reach_ethnicity_minority = len(list(filter(lambda individual:not individual.get_ethnicity()=='White British', individuals.values()))); \n",
    "\n",
    "for individual in individuals.values():\n",
    "    if(individual.get_ethnicity()=='White British'):\n",
    "        reach_individual_to_ethnicity[individual.get_id()] = 'white british';\n",
    "    elif(not individual.get_fsm()):\n",
    "        reach_individual_to_ethnicity[individual.get_id()] = 'ethnic minority';\n",
    "\n",
    "print(str(reach_ethnicity_white_british) + ' ' + str(reach_ethnicity_minority));\n"
   ]
  },
  {
   "cell_type": "code",
   "execution_count": 57,
   "metadata": {},
   "outputs": [
    {
     "name": "stdout",
     "output_type": "stream",
     "text": [
      "4945\n"
     ]
    }
   ],
   "source": [
    "reach_ethnicity_total = reach_ethnicity_white_british + reach_ethnicity_minority;\n",
    "print(reach_ethnicity_total);"
   ]
  },
  {
   "cell_type": "code",
   "execution_count": 58,
   "metadata": {},
   "outputs": [
    {
     "name": "stdout",
     "output_type": "stream",
     "text": [
      "0.13872598584428716 0.8612740141557128\n"
     ]
    }
   ],
   "source": [
    "reach_ethnicity_white_british_proportion = reach_ethnicity_white_british / reach_ethnicity_total;\n",
    "reach_ethnicity_minority_proportion = reach_ethnicity_minority / reach_ethnicity_total;\n",
    "print(str(reach_ethnicity_white_british_proportion) + ' ' + str(reach_ethnicity_minority_proportion));"
   ]
  },
  {
   "attachments": {},
   "cell_type": "markdown",
   "metadata": {},
   "source": [
    "Distributions"
   ]
  },
  {
   "cell_type": "code",
   "execution_count": 59,
   "metadata": {},
   "outputs": [
    {
     "name": "stdout",
     "output_type": "stream",
     "text": [
      "REACH white british: 14\n",
      "REACH minority ethnic: 86\n"
     ]
    }
   ],
   "source": [
    "reach_ethnicity_white_british_proportion_100 = max(1, int(round(reach_ethnicity_white_british_proportion, 2) * 100));\n",
    "print(\"REACH white british: \" + str(reach_ethnicity_white_british_proportion_100));\n",
    "reach_ethnicity_minority_proportion_100 = max(1, int(round(reach_ethnicity_minority_proportion, 2) * 100));\n",
    "print(\"REACH minority ethnic: \" + str(reach_ethnicity_minority_proportion_100));"
   ]
  },
  {
   "cell_type": "code",
   "execution_count": 60,
   "metadata": {},
   "outputs": [
    {
     "name": "stdout",
     "output_type": "stream",
     "text": [
      "100\n"
     ]
    }
   ],
   "source": [
    "print(reach_ethnicity_white_british_proportion_100 + reach_ethnicity_minority_proportion_100);"
   ]
  },
  {
   "attachments": {},
   "cell_type": "markdown",
   "metadata": {},
   "source": [
    "<h3>Depression</h3>"
   ]
  },
  {
   "attachments": {},
   "cell_type": "markdown",
   "metadata": {},
   "source": [
    "SEC"
   ]
  },
  {
   "cell_type": "code",
   "execution_count": 61,
   "metadata": {},
   "outputs": [],
   "source": [
    "# function that attempts to gain consensus on SEC across the two metrics\n",
    "def get_REACH_SEC(patient_id):\n",
    "    classifications = [reach_individual_to_fas_sec[patient_id] if patient_id in reach_individual_to_fas_sec.keys() else \"\", reach_individual_to_fsm_sec[patient_id] if patient_id in reach_individual_to_fsm_sec.keys() else \"\"];\n",
    "    classifications_split = [item for sublist in list(map(lambda classification: classification.split(' or '), classifications)) for item in sublist];\n",
    "    counts = {'low':classifications_split.count('low'), 'mid':classifications_split.count('mid'), 'high':classifications_split.count('high')};\n",
    "    max_counts = [sec for sec, count in counts.items() if count == max(counts.values())];\n",
    "    if(len(max_counts) == 1): return max_counts[0];\n",
    "    elif(len(max_counts) == 2 and max_counts == [\"low\", \"high\"]): return \"mid\";\n",
    "    return False;"
   ]
  },
  {
   "cell_type": "code",
   "execution_count": 62,
   "metadata": {},
   "outputs": [
    {
     "name": "stdout",
     "output_type": "stream",
     "text": [
      "448\n",
      "4497\n"
     ]
    }
   ],
   "source": [
    "depression_patients = list(map(lambda depressed_individual:depressed_individual.get_id(), list(filter(lambda individual:individual.get_depression(), individuals.values()))));\n",
    "other_patients = list(map(lambda non_depressed_individual:non_depressed_individual.get_id(), list(filter(lambda individual:not individual.get_depression(), individuals.values()))));\n",
    "# For interest\n",
    "print(len(depression_patients));\n",
    "print(len(other_patients));"
   ]
  },
  {
   "cell_type": "code",
   "execution_count": 63,
   "metadata": {},
   "outputs": [
    {
     "name": "stdout",
     "output_type": "stream",
     "text": [
      "6\n",
      "177\n",
      "214\n",
      "56\n",
      "1464\n",
      "1836\n"
     ]
    }
   ],
   "source": [
    "# Determine population of 6 groups of interest\n",
    "reach_sec_low_depression_proportion, reach_sec_mid_depression_proportion, reach_sec_high_depression_proportion, reach_sec_low_non_depression_proportion, reach_sec_mid_non_depression_proportion, reach_sec_high_non_depression_proportion = 0, 0, 0, 0, 0, 0;\n",
    "for individual in individuals.values():\n",
    "    sec = get_REACH_SEC(individual.get_id());\n",
    "    if(sec):\n",
    "        if(individual.get_id() in depression_patients and sec=='low'):\n",
    "            reach_sec_low_depression_proportion = reach_sec_low_depression_proportion + 1;\n",
    "        elif(individual.get_id() in depression_patients and sec=='mid'):\n",
    "            reach_sec_mid_depression_proportion = reach_sec_mid_depression_proportion + 1;\n",
    "        elif(individual.get_id() in depression_patients and sec=='high'):\n",
    "            reach_sec_high_depression_proportion = reach_sec_high_depression_proportion + 1;\n",
    "        elif(individual.get_id() in other_patients and sec=='low'):\n",
    "            reach_sec_low_non_depression_proportion = reach_sec_low_non_depression_proportion + 1;\n",
    "        elif(individual.get_id() in other_patients and sec=='mid'):\n",
    "            reach_sec_mid_non_depression_proportion = reach_sec_mid_non_depression_proportion + 1;\n",
    "        elif(individual.get_id() in other_patients and sec=='high'):\n",
    "            reach_sec_high_non_depression_proportion = reach_sec_high_non_depression_proportion + 1;\n",
    "\n",
    "print(reach_sec_low_depression_proportion); \n",
    "print(reach_sec_mid_depression_proportion); \n",
    "print(reach_sec_high_depression_proportion); \n",
    "print(reach_sec_low_non_depression_proportion);\n",
    "print(reach_sec_mid_non_depression_proportion); \n",
    "print(reach_sec_high_non_depression_proportion);"
   ]
  },
  {
   "cell_type": "code",
   "execution_count": 64,
   "metadata": {},
   "outputs": [],
   "source": [
    "reach_sec_depression_total = reach_sec_low_depression_proportion + reach_sec_mid_depression_proportion + reach_sec_high_depression_proportion + reach_sec_low_non_depression_proportion + reach_sec_mid_non_depression_proportion + reach_sec_high_non_depression_proportion;"
   ]
  },
  {
   "attachments": {},
   "cell_type": "markdown",
   "metadata": {},
   "source": [
    "Distributions"
   ]
  },
  {
   "cell_type": "code",
   "execution_count": 65,
   "metadata": {},
   "outputs": [
    {
     "name": "stdout",
     "output_type": "stream",
     "text": [
      "REACH low SEC + depression: 1\n",
      "REACH mid SEC + depression: 5\n",
      "REACH high SEC + depression: 6\n",
      "REACH low SEC: 1\n",
      "REACH mid SEC: 39\n",
      "REACH high SEC: 49\n"
     ]
    }
   ],
   "source": [
    "reach_sec_low_depression_proportion_100 = max(1, int(round(reach_sec_low_depression_proportion / reach_sec_depression_total, 2) * 100));\n",
    "print(\"REACH low SEC + depression: \" + str(reach_sec_low_depression_proportion_100));\n",
    "reach_sec_mid_depression_proportion_100 = max(1, int(round(reach_sec_mid_depression_proportion / reach_sec_depression_total, 2) * 100));\n",
    "print(\"REACH mid SEC + depression: \" + str(reach_sec_mid_depression_proportion_100));\n",
    "reach_sec_high_depression_proportion_100 = max(1, int(round(reach_sec_high_depression_proportion / reach_sec_depression_total, 2) * 100));\n",
    "print(\"REACH high SEC + depression: \" + str(reach_sec_high_depression_proportion_100));\n",
    "reach_sec_low_non_depression_proportion_100 = max(1, int(round(reach_sec_low_non_depression_proportion / reach_sec_depression_total, 2) * 100));\n",
    "print(\"REACH low SEC: \" + str(reach_sec_low_non_depression_proportion_100));\n",
    "reach_sec_mid_non_depression_proportion_100 = max(1, int(round(reach_sec_mid_non_depression_proportion / reach_sec_depression_total, 2) * 100));\n",
    "print(\"REACH mid SEC: \" + str(reach_sec_mid_non_depression_proportion_100));\n",
    "reach_sec_high_non_depression_proportion_100 = max(1, int(round(reach_sec_high_non_depression_proportion / reach_sec_depression_total, 2) * 100));\n",
    "print(\"REACH high SEC: \" + str(reach_sec_high_non_depression_proportion_100));"
   ]
  },
  {
   "cell_type": "code",
   "execution_count": 66,
   "metadata": {},
   "outputs": [
    {
     "name": "stdout",
     "output_type": "stream",
     "text": [
      "101\n"
     ]
    }
   ],
   "source": [
    "print(reach_sec_low_depression_proportion_100 + reach_sec_mid_depression_proportion_100 + reach_sec_high_depression_proportion_100 + reach_sec_low_non_depression_proportion_100 + reach_sec_mid_non_depression_proportion_100 + reach_sec_high_non_depression_proportion_100)"
   ]
  },
  {
   "attachments": {},
   "cell_type": "markdown",
   "metadata": {},
   "source": [
    "Ethnicity"
   ]
  },
  {
   "cell_type": "code",
   "execution_count": 67,
   "metadata": {},
   "outputs": [
    {
     "name": "stdout",
     "output_type": "stream",
     "text": [
      "87\n",
      "284\n",
      "599\n",
      "3085\n"
     ]
    }
   ],
   "source": [
    "# Determine population of 4 groups of interest\n",
    "reach_ethnicity_white_depression_proportion, reach_ethnicity_minority_depression_proportion, reach_ethnicity_white_non_depression_proportion, reach_ethnicity_minority_non_depression_proportion = 0, 0, 0, 0;\n",
    "for individual in individuals.values():\n",
    "    if(not individual.get_id() in reach_individual_to_ethnicity.keys()): continue;\n",
    "    ethnicity = reach_individual_to_ethnicity[individual.get_id()];\n",
    "    if(ethnicity):\n",
    "        if(individual.get_id() in depression_patients and ethnicity=='white british'):\n",
    "            reach_ethnicity_white_depression_proportion = reach_ethnicity_white_depression_proportion + 1;\n",
    "        elif(individual.get_id() in depression_patients and ethnicity=='ethnic minority'):\n",
    "            reach_ethnicity_minority_depression_proportion = reach_ethnicity_minority_depression_proportion + 1;\n",
    "        elif(individual.get_id() in other_patients and ethnicity=='white british'):\n",
    "            reach_ethnicity_white_non_depression_proportion = reach_ethnicity_white_non_depression_proportion + 1;\n",
    "        elif(individual.get_id() in other_patients and ethnicity=='ethnic minority'):\n",
    "            reach_ethnicity_minority_non_depression_proportion = reach_ethnicity_minority_non_depression_proportion + 1;\n",
    "\n",
    "print(reach_ethnicity_white_depression_proportion); \n",
    "print(reach_ethnicity_minority_depression_proportion); \n",
    "print(reach_ethnicity_white_non_depression_proportion); \n",
    "print(reach_ethnicity_minority_non_depression_proportion);"
   ]
  },
  {
   "cell_type": "code",
   "execution_count": 68,
   "metadata": {},
   "outputs": [],
   "source": [
    "reach_ethnicity_depression_total = reach_ethnicity_white_depression_proportion + reach_ethnicity_minority_depression_proportion + reach_ethnicity_white_non_depression_proportion + reach_ethnicity_minority_non_depression_proportion;"
   ]
  },
  {
   "attachments": {},
   "cell_type": "markdown",
   "metadata": {},
   "source": [
    "Distributions"
   ]
  },
  {
   "cell_type": "code",
   "execution_count": 69,
   "metadata": {},
   "outputs": [
    {
     "name": "stdout",
     "output_type": "stream",
     "text": [
      "LDN minority ethnic + depression: 7\n",
      "LDN white british + depression: 2\n",
      "LDN minority ethnic: 76\n",
      "LDN white british: 15\n"
     ]
    }
   ],
   "source": [
    "reach_ethnicity_minority_depression_proportion_100 = max(1, int(round(reach_ethnicity_minority_depression_proportion / reach_ethnicity_depression_total, 2) * 100));\n",
    "print(\"LDN minority ethnic + depression: \" + str(reach_ethnicity_minority_depression_proportion_100));\n",
    "reach_ethnicity_white_depression_proportion_100 = max(1, int(round(reach_ethnicity_white_depression_proportion / reach_ethnicity_depression_total, 2) * 100));\n",
    "print(\"LDN white british + depression: \" + str(reach_ethnicity_white_depression_proportion_100));\n",
    "reach_ethnicity_minority_non_depression_proportion_100 = max(1, int(round(reach_ethnicity_minority_non_depression_proportion / reach_ethnicity_depression_total, 2) * 100));\n",
    "print(\"LDN minority ethnic: \" + str(reach_ethnicity_minority_non_depression_proportion_100));\n",
    "reach_ethnicity_white_non_depression_proportion_100 = max(1, int(round(reach_ethnicity_white_non_depression_proportion / reach_ethnicity_depression_total, 2) * 100));\n",
    "print(\"LDN white british: \" + str(reach_ethnicity_white_non_depression_proportion_100));"
   ]
  },
  {
   "cell_type": "code",
   "execution_count": 70,
   "metadata": {},
   "outputs": [
    {
     "name": "stdout",
     "output_type": "stream",
     "text": [
      "100\n"
     ]
    }
   ],
   "source": [
    "print(reach_ethnicity_white_depression_proportion_100 + reach_ethnicity_minority_depression_proportion_100 + reach_ethnicity_white_non_depression_proportion_100 + reach_ethnicity_minority_non_depression_proportion_100)"
   ]
  }
 ],
 "metadata": {
  "kernelspec": {
   "display_name": ".venv",
   "language": "python",
   "name": "python3"
  },
  "language_info": {
   "codemirror_mode": {
    "name": "ipython",
    "version": 3
   },
   "file_extension": ".py",
   "mimetype": "text/x-python",
   "name": "python",
   "nbconvert_exporter": "python",
   "pygments_lexer": "ipython3",
   "version": "3.10.10"
  },
  "orig_nbformat": 4
 },
 "nbformat": 4,
 "nbformat_minor": 2
}
